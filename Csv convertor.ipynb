# Import Dependencies
import pandas as pd
import os 

# Make a reference to the books.csv file path
filepath = os.path.join("Resources", "cities.csv")

# Import the books.csv file as a DataFrame
df = pd.read_csv(filepath, encoding="utf-8")
df.head()